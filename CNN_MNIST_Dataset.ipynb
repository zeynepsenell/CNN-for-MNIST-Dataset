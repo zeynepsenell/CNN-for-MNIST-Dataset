{
 "cells": [
  {
   "cell_type": "markdown",
   "id": "76b9c768",
   "metadata": {},
   "source": [
    "Building a CNN and trying to achieve the highest possible accuracy on MNIST."
   ]
  },
  {
   "cell_type": "code",
   "execution_count": 12,
   "id": "d4354b4d",
   "metadata": {},
   "outputs": [],
   "source": [
    "import numpy as np\n",
    "import keras\n",
    "from keras.models import Sequential\n",
    "from keras.layers import Dense, Dropout, Flatten, Conv2D, MaxPooling2D, Activation\n",
    "from keras.datasets import mnist"
   ]
  },
  {
   "cell_type": "code",
   "execution_count": 13,
   "id": "6b34bf76",
   "metadata": {},
   "outputs": [],
   "source": [
    "def clear_seed():\n",
    "    keras.backend.clear_session()\n",
    "    tf.random.set_seed(42)\n",
    "    np.random.seed(42)"
   ]
  },
  {
   "cell_type": "code",
   "execution_count": 14,
   "id": "7a176b60",
   "metadata": {},
   "outputs": [],
   "source": [
    "def create_model(activation='relu', dropout=0.25):\n",
    "    model = Sequential()\n",
    "    #32 is the number of filters\n",
    "    model.add(Conv2D(32, kernel_size=(3, 3), input_shape=input_shape)) #stands for a 2D convolutional layer\n",
    "    model.add(Activation(activation))\n",
    "    model.add(Conv2D(64, kernel_size=(3, 3)))\n",
    "    model.add(Activation(activation))\n",
    "    model.add(MaxPooling2D(pool_size=(2, 2)))\n",
    "    model.add(Dropout(dropout))\n",
    "    #the output of convolutional layers might be in the form of a high-dimensional tensor, it is not suitable for feeding into connected layers.\n",
    "    model.add(Flatten())\n",
    "    model.add(Dense(128))\n",
    "    model.add(Activation(activation))\n",
    "    model.add(Dropout(dropout))\n",
    "    model.add(Dense(10))\n",
    "    model.add(Activation('softmax'))\n",
    "    return model"
   ]
  },
  {
   "cell_type": "code",
   "execution_count": 15,
   "id": "530205f4",
   "metadata": {},
   "outputs": [],
   "source": [
    "def compile_model(model, optimizer='adam', loss='categorical_crossentropy'):\n",
    "    model.compile(loss=loss, optimizer=optimizer, metrics=['accuracy'])"
   ]
  },
  {
   "cell_type": "code",
   "execution_count": 16,
   "id": "9c216696",
   "metadata": {},
   "outputs": [],
   "source": [
    "#Loading the MNIST dataset\n",
    "(x_train, y_train), (x_test, y_test) = mnist.load_data()"
   ]
  },
  {
   "cell_type": "code",
   "execution_count": 18,
   "id": "0aec841d",
   "metadata": {},
   "outputs": [],
   "source": [
    "# Reshaping the input data \n",
    "#batch_size, height, width, channels\n",
    "x_train = x_train.reshape(x_train.shape[0], 28, 28, 1)\n",
    "x_test = x_test.reshape(x_test.shape[0], 28, 28, 1)\n",
    "input_shape = (28, 28, 1)"
   ]
  },
  {
   "cell_type": "code",
   "execution_count": 19,
   "id": "9e0bcd19",
   "metadata": {},
   "outputs": [],
   "source": [
    "# Converting the data to float32 and normalize the pixel values to the range [0, 1]\n",
    "x_train = x_train.astype('float32')\n",
    "x_test = x_test.astype('float32')\n",
    "x_train /= 255\n",
    "x_test /= 255"
   ]
  },
  {
   "cell_type": "code",
   "execution_count": 20,
   "id": "beac25ee",
   "metadata": {},
   "outputs": [],
   "source": [
    "#Represents the variable as categorical data. \n",
    "#One-hot encoding is a technique used to convert categorical data into a binary vector representation.\n",
    "num_classes = 10\n",
    "y_train = keras.utils.to_categorical(y_train, num_classes)\n",
    "y_test = keras.utils.to_categorical(y_test, num_classes)"
   ]
  },
  {
   "cell_type": "markdown",
   "id": "8ec530a8",
   "metadata": {},
   "source": [
    "First model "
   ]
  },
  {
   "cell_type": "code",
   "execution_count": 21,
   "id": "81f9bf7e",
   "metadata": {},
   "outputs": [
    {
     "data": {
      "text/plain": [
       "<function __main__.clear_seed()>"
      ]
     },
     "execution_count": 21,
     "metadata": {},
     "output_type": "execute_result"
    }
   ],
   "source": [
    "clear_seed"
   ]
  },
  {
   "cell_type": "code",
   "execution_count": 27,
   "id": "5c14d30c",
   "metadata": {},
   "outputs": [],
   "source": [
    "model = create_model(activation='relu', dropout=0.5)"
   ]
  },
  {
   "cell_type": "code",
   "execution_count": 28,
   "id": "1e627096",
   "metadata": {},
   "outputs": [],
   "source": [
    "compile_model(model, optimizer='adam', loss='categorical_crossentropy')"
   ]
  },
  {
   "cell_type": "code",
   "execution_count": 29,
   "id": "7c7d6601",
   "metadata": {},
   "outputs": [
    {
     "name": "stdout",
     "output_type": "stream",
     "text": [
      "Epoch 1/10\n",
      "469/469 [==============================] - 43s 90ms/step - loss: 0.2506 - accuracy: 0.9230 - val_loss: 0.0541 - val_accuracy: 0.9830\n",
      "Epoch 2/10\n",
      "469/469 [==============================] - 48s 101ms/step - loss: 0.0957 - accuracy: 0.9708 - val_loss: 0.0395 - val_accuracy: 0.9873\n",
      "Epoch 3/10\n",
      "469/469 [==============================] - 48s 102ms/step - loss: 0.0723 - accuracy: 0.9781 - val_loss: 0.0338 - val_accuracy: 0.9883\n",
      "Epoch 4/10\n",
      "469/469 [==============================] - 49s 104ms/step - loss: 0.0618 - accuracy: 0.9810 - val_loss: 0.0293 - val_accuracy: 0.9905\n",
      "Epoch 5/10\n",
      "469/469 [==============================] - 50s 106ms/step - loss: 0.0554 - accuracy: 0.9832 - val_loss: 0.0292 - val_accuracy: 0.9907\n",
      "Epoch 6/10\n",
      "469/469 [==============================] - 54s 114ms/step - loss: 0.0483 - accuracy: 0.9851 - val_loss: 0.0268 - val_accuracy: 0.9913\n",
      "Epoch 7/10\n",
      "469/469 [==============================] - 52s 110ms/step - loss: 0.0443 - accuracy: 0.9860 - val_loss: 0.0262 - val_accuracy: 0.9910\n",
      "Epoch 8/10\n",
      "469/469 [==============================] - 53s 114ms/step - loss: 0.0402 - accuracy: 0.9875 - val_loss: 0.0264 - val_accuracy: 0.9914\n",
      "Epoch 9/10\n",
      "469/469 [==============================] - 50s 107ms/step - loss: 0.0366 - accuracy: 0.9882 - val_loss: 0.0265 - val_accuracy: 0.9914\n",
      "Epoch 10/10\n",
      "469/469 [==============================] - 47s 100ms/step - loss: 0.0350 - accuracy: 0.9891 - val_loss: 0.0281 - val_accuracy: 0.9913\n"
     ]
    },
    {
     "data": {
      "text/plain": [
       "<keras.callbacks.History at 0x18ba3fda6a0>"
      ]
     },
     "execution_count": 29,
     "metadata": {},
     "output_type": "execute_result"
    }
   ],
   "source": [
    "# Train\n",
    "model.fit(x_train, y_train, batch_size=128, epochs=10, verbose=1, validation_data=(x_test, y_test))"
   ]
  },
  {
   "cell_type": "code",
   "execution_count": 30,
   "id": "f8bdb6be",
   "metadata": {},
   "outputs": [
    {
     "name": "stdout",
     "output_type": "stream",
     "text": [
      "Test loss: 0.028100473806262016\n",
      "Test accuracy: 0.9912999868392944\n"
     ]
    }
   ],
   "source": [
    "# Evaluate the model on the test set\n",
    "score = model.evaluate(x_test, y_test, verbose=0)\n",
    "print('Test loss:', score[0])\n",
    "print('Test accuracy:', score[1])"
   ]
  },
  {
   "cell_type": "markdown",
   "id": "0fa11988",
   "metadata": {},
   "source": [
    "Second model "
   ]
  },
  {
   "cell_type": "code",
   "execution_count": 14,
   "id": "62a78465",
   "metadata": {},
   "outputs": [
    {
     "data": {
      "text/plain": [
       "<function __main__.clear_seed()>"
      ]
     },
     "execution_count": 14,
     "metadata": {},
     "output_type": "execute_result"
    }
   ],
   "source": [
    "clear_seed"
   ]
  },
  {
   "cell_type": "code",
   "execution_count": 20,
   "id": "b1d621d1",
   "metadata": {},
   "outputs": [],
   "source": [
    "model = create_model(activation='elu', dropout=0.4)"
   ]
  },
  {
   "cell_type": "code",
   "execution_count": 21,
   "id": "d744af6a",
   "metadata": {},
   "outputs": [],
   "source": [
    "compile_model(model, optimizer='nadam', loss='categorical_crossentropy')"
   ]
  },
  {
   "cell_type": "code",
   "execution_count": 22,
   "id": "f2d50d08",
   "metadata": {},
   "outputs": [
    {
     "name": "stdout",
     "output_type": "stream",
     "text": [
      "Epoch 1/10\n",
      "469/469 [==============================] - 49s 101ms/step - loss: 0.5326 - accuracy: 0.8387 - val_loss: 0.2266 - val_accuracy: 0.9315\n",
      "Epoch 2/10\n",
      "469/469 [==============================] - 56s 119ms/step - loss: 0.2548 - accuracy: 0.9238 - val_loss: 0.1522 - val_accuracy: 0.9565\n",
      "Epoch 3/10\n",
      "469/469 [==============================] - 54s 115ms/step - loss: 0.1975 - accuracy: 0.9402 - val_loss: 0.1179 - val_accuracy: 0.9646\n",
      "Epoch 4/10\n",
      "469/469 [==============================] - 55s 116ms/step - loss: 0.1663 - accuracy: 0.9496 - val_loss: 0.0999 - val_accuracy: 0.9707\n",
      "Epoch 5/10\n",
      "469/469 [==============================] - 54s 116ms/step - loss: 0.1491 - accuracy: 0.9542 - val_loss: 0.0842 - val_accuracy: 0.9739\n",
      "Epoch 6/10\n",
      "469/469 [==============================] - 54s 116ms/step - loss: 0.1311 - accuracy: 0.9598 - val_loss: 0.0762 - val_accuracy: 0.9775\n",
      "Epoch 7/10\n",
      "469/469 [==============================] - 54s 116ms/step - loss: 0.1175 - accuracy: 0.9644 - val_loss: 0.0696 - val_accuracy: 0.9795\n",
      "Epoch 8/10\n",
      "469/469 [==============================] - 51s 109ms/step - loss: 0.1071 - accuracy: 0.9668 - val_loss: 0.0670 - val_accuracy: 0.9799\n",
      "Epoch 9/10\n",
      "469/469 [==============================] - 56s 120ms/step - loss: 0.1003 - accuracy: 0.9695 - val_loss: 0.0642 - val_accuracy: 0.9802\n",
      "Epoch 10/10\n",
      "469/469 [==============================] - 57s 122ms/step - loss: 0.0937 - accuracy: 0.9699 - val_loss: 0.0583 - val_accuracy: 0.9822\n"
     ]
    },
    {
     "data": {
      "text/plain": [
       "<keras.callbacks.History at 0x1f49f950f10>"
      ]
     },
     "execution_count": 22,
     "metadata": {},
     "output_type": "execute_result"
    }
   ],
   "source": [
    "# Train\n",
    "model.fit(x_train, y_train, batch_size=128, epochs=10, verbose=1, validation_data=(x_test, y_test))"
   ]
  },
  {
   "cell_type": "code",
   "execution_count": 23,
   "id": "f54b0ea7",
   "metadata": {},
   "outputs": [
    {
     "name": "stdout",
     "output_type": "stream",
     "text": [
      "Test loss: 0.05832064896821976\n",
      "Test accuracy: 0.982200026512146\n"
     ]
    }
   ],
   "source": [
    "score = model.evaluate(x_test, y_test, verbose=0)\n",
    "print('Test loss:', score[0])\n",
    "print('Test accuracy:', score[1])"
   ]
  },
  {
   "cell_type": "markdown",
   "id": "a93a83f8",
   "metadata": {},
   "source": [
    "Third model "
   ]
  },
  {
   "cell_type": "code",
   "execution_count": 28,
   "id": "4a1f9b59",
   "metadata": {},
   "outputs": [
    {
     "data": {
      "text/plain": [
       "<function __main__.clear_seed()>"
      ]
     },
     "execution_count": 28,
     "metadata": {},
     "output_type": "execute_result"
    }
   ],
   "source": [
    "clear_seed"
   ]
  },
  {
   "cell_type": "code",
   "execution_count": 25,
   "id": "e1228d8d",
   "metadata": {},
   "outputs": [],
   "source": [
    "model = create_model(activation='relu', dropout=0.5)"
   ]
  },
  {
   "cell_type": "code",
   "execution_count": 26,
   "id": "547e22da",
   "metadata": {},
   "outputs": [],
   "source": [
    "compile_model(model, optimizer='nadam', loss='categorical_crossentropy')"
   ]
  },
  {
   "cell_type": "code",
   "execution_count": 27,
   "id": "4b887849",
   "metadata": {
    "scrolled": true
   },
   "outputs": [
    {
     "name": "stdout",
     "output_type": "stream",
     "text": [
      "Epoch 1/10\n",
      "469/469 [==============================] - 42s 87ms/step - loss: 0.2480 - accuracy: 0.9248 - val_loss: 0.0563 - val_accuracy: 0.9831\n",
      "Epoch 2/10\n",
      "469/469 [==============================] - 43s 92ms/step - loss: 0.0932 - accuracy: 0.9723 - val_loss: 0.0381 - val_accuracy: 0.9877\n",
      "Epoch 3/10\n",
      "469/469 [==============================] - 45s 96ms/step - loss: 0.0710 - accuracy: 0.9783 - val_loss: 0.0352 - val_accuracy: 0.9879\n",
      "Epoch 4/10\n",
      "469/469 [==============================] - 47s 100ms/step - loss: 0.0592 - accuracy: 0.9817 - val_loss: 0.0301 - val_accuracy: 0.9904\n",
      "Epoch 5/10\n",
      "469/469 [==============================] - 49s 104ms/step - loss: 0.0502 - accuracy: 0.9843 - val_loss: 0.0297 - val_accuracy: 0.9900\n",
      "Epoch 6/10\n",
      "469/469 [==============================] - 52s 112ms/step - loss: 0.0471 - accuracy: 0.9855 - val_loss: 0.0288 - val_accuracy: 0.9906\n",
      "Epoch 7/10\n",
      "469/469 [==============================] - 51s 109ms/step - loss: 0.0430 - accuracy: 0.9861 - val_loss: 0.0273 - val_accuracy: 0.9909\n",
      "Epoch 8/10\n",
      "469/469 [==============================] - 50s 107ms/step - loss: 0.0389 - accuracy: 0.9877 - val_loss: 0.0278 - val_accuracy: 0.9915\n",
      "Epoch 9/10\n",
      "469/469 [==============================] - 48s 103ms/step - loss: 0.0345 - accuracy: 0.9887 - val_loss: 0.0250 - val_accuracy: 0.9916\n",
      "Epoch 10/10\n",
      "469/469 [==============================] - 50s 107ms/step - loss: 0.0329 - accuracy: 0.9898 - val_loss: 0.0244 - val_accuracy: 0.9923\n"
     ]
    },
    {
     "data": {
      "text/plain": [
       "<keras.callbacks.History at 0x1fd33afaca0>"
      ]
     },
     "execution_count": 27,
     "metadata": {},
     "output_type": "execute_result"
    }
   ],
   "source": [
    "#Train\n",
    "model.fit(x_train, y_train, batch_size=128, epochs=10, verbose=1, validation_data=(x_test, y_test))"
   ]
  },
  {
   "cell_type": "code",
   "execution_count": 28,
   "id": "3a33f250",
   "metadata": {
    "scrolled": true
   },
   "outputs": [
    {
     "name": "stdout",
     "output_type": "stream",
     "text": [
      "Test loss: 0.024356350302696228\n",
      "Test accuracy: 0.9922999739646912\n"
     ]
    }
   ],
   "source": [
    "score = model.evaluate(x_test, y_test, verbose=0)\n",
    "print('Test loss:', score[0])\n",
    "print('Test accuracy:', score[1])"
   ]
  },
  {
   "cell_type": "markdown",
   "id": "3a79fce7",
   "metadata": {},
   "source": [
    "Fourth model"
   ]
  },
  {
   "cell_type": "code",
   "execution_count": 29,
   "id": "506b292c",
   "metadata": {},
   "outputs": [
    {
     "data": {
      "text/plain": [
       "<function __main__.clear_seed()>"
      ]
     },
     "execution_count": 29,
     "metadata": {},
     "output_type": "execute_result"
    }
   ],
   "source": [
    "clear_seed"
   ]
  },
  {
   "cell_type": "code",
   "execution_count": 34,
   "id": "9a06623b",
   "metadata": {},
   "outputs": [],
   "source": [
    "model = create_model(activation='relu', dropout=0.2)"
   ]
  },
  {
   "cell_type": "code",
   "execution_count": 35,
   "id": "7ac7b452",
   "metadata": {},
   "outputs": [],
   "source": [
    "compile_model(model, optimizer='nadam', loss='categorical_crossentropy')"
   ]
  },
  {
   "cell_type": "code",
   "execution_count": 36,
   "id": "420d40de",
   "metadata": {
    "scrolled": true
   },
   "outputs": [
    {
     "name": "stdout",
     "output_type": "stream",
     "text": [
      "Epoch 1/10\n",
      "469/469 [==============================] - 47s 97ms/step - loss: 0.1815 - accuracy: 0.9449 - val_loss: 0.0471 - val_accuracy: 0.9851\n",
      "Epoch 2/10\n",
      "469/469 [==============================] - 48s 101ms/step - loss: 0.0531 - accuracy: 0.9838 - val_loss: 0.0354 - val_accuracy: 0.9886\n",
      "Epoch 3/10\n",
      "469/469 [==============================] - 49s 104ms/step - loss: 0.0366 - accuracy: 0.9883 - val_loss: 0.0349 - val_accuracy: 0.9887\n",
      "Epoch 4/10\n",
      "469/469 [==============================] - 50s 106ms/step - loss: 0.0282 - accuracy: 0.9905 - val_loss: 0.0279 - val_accuracy: 0.9911\n",
      "Epoch 5/10\n",
      "469/469 [==============================] - 75s 161ms/step - loss: 0.0226 - accuracy: 0.9924 - val_loss: 0.0326 - val_accuracy: 0.9905\n",
      "Epoch 6/10\n",
      "469/469 [==============================] - 100s 213ms/step - loss: 0.0186 - accuracy: 0.9937 - val_loss: 0.0309 - val_accuracy: 0.9896\n",
      "Epoch 7/10\n",
      "469/469 [==============================] - 103s 220ms/step - loss: 0.0150 - accuracy: 0.9951 - val_loss: 0.0327 - val_accuracy: 0.9905\n",
      "Epoch 8/10\n",
      "469/469 [==============================] - 106s 226ms/step - loss: 0.0133 - accuracy: 0.9956 - val_loss: 0.0325 - val_accuracy: 0.9898\n",
      "Epoch 9/10\n",
      "469/469 [==============================] - 101s 216ms/step - loss: 0.0125 - accuracy: 0.9957 - val_loss: 0.0325 - val_accuracy: 0.9913\n",
      "Epoch 10/10\n",
      "469/469 [==============================] - 106s 226ms/step - loss: 0.0105 - accuracy: 0.9963 - val_loss: 0.0332 - val_accuracy: 0.9914\n"
     ]
    },
    {
     "data": {
      "text/plain": [
       "<keras.callbacks.History at 0x1fd3a9d9f10>"
      ]
     },
     "execution_count": 36,
     "metadata": {},
     "output_type": "execute_result"
    }
   ],
   "source": [
    "#Train\n",
    "model.fit(x_train, y_train, batch_size=128, epochs=10, verbose=1, validation_data=(x_test, y_test))"
   ]
  },
  {
   "cell_type": "code",
   "execution_count": 37,
   "id": "889b9358",
   "metadata": {},
   "outputs": [
    {
     "name": "stdout",
     "output_type": "stream",
     "text": [
      "Test loss: 0.03321881964802742\n",
      "Test accuracy: 0.9914000034332275\n"
     ]
    }
   ],
   "source": [
    "score = model.evaluate(x_test, y_test, verbose=0)\n",
    "print('Test loss:', score[0])\n",
    "print('Test accuracy:', score[1])"
   ]
  }
 ],
 "metadata": {
  "kernelspec": {
   "display_name": "Python 3 (ipykernel)",
   "language": "python",
   "name": "python3"
  },
  "language_info": {
   "codemirror_mode": {
    "name": "ipython",
    "version": 3
   },
   "file_extension": ".py",
   "mimetype": "text/x-python",
   "name": "python",
   "nbconvert_exporter": "python",
   "pygments_lexer": "ipython3",
   "version": "3.9.13"
  }
 },
 "nbformat": 4,
 "nbformat_minor": 5
}
